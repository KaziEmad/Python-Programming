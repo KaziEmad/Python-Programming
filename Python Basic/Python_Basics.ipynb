{
 "cells": [
  {
   "cell_type": "markdown",
   "metadata": {},
   "source": [
    "# Basics of Python"
   ]
  },
  {
   "cell_type": "code",
   "execution_count": 1,
   "metadata": {},
   "outputs": [
    {
     "data": {
      "text/plain": [
       "'\\ncd .\\x00numpyjupyter nbconvert --to markdown numpy.ipynb --output README.md\\n'"
      ]
     },
     "execution_count": 1,
     "metadata": {},
     "output_type": "execute_result"
    }
   ],
   "source": [
    "\"\"\"\n",
    "cd .\\Python Basic\\\n",
    "jupyter nbconvert --to markdown Python_Basics.ipynb --output README.md\n",
    "\"\"\""
   ]
  },
  {
   "cell_type": "markdown",
   "metadata": {},
   "source": [
    "## Printing the First Program"
   ]
  },
  {
   "cell_type": "code",
   "execution_count": 1,
   "metadata": {},
   "outputs": [
    {
     "name": "stdout",
     "output_type": "stream",
     "text": [
      "Hello World!\n"
     ]
    }
   ],
   "source": [
    "print(\"Hello World!\")"
   ]
  },
  {
   "cell_type": "markdown",
   "metadata": {},
   "source": [
    "## Input Taking in Python"
   ]
  },
  {
   "cell_type": "markdown",
   "metadata": {},
   "source": [
    "The basic concepts for taking input is `input(\"Whatever You Want to Show in Screen while taking Input\")`\n",
    "- for integer `int(input(\"Enter Input in integer\"))`\n",
    "- for float `float(input(\"Enter Input in float\"))`\n",
    "- for string `input(\"Enter Input in Integer\")`"
   ]
  },
  {
   "cell_type": "code",
   "execution_count": 4,
   "metadata": {},
   "outputs": [
    {
     "name": "stdout",
     "output_type": "stream",
     "text": [
      "Your Name is Emad\n"
     ]
    }
   ],
   "source": [
    "user = input(\"Enter Your Name\")\n",
    "print(f\"Your Name is {user}\")"
   ]
  },
  {
   "cell_type": "markdown",
   "metadata": {},
   "source": [
    "And also there are different ways to print the output. For example:"
   ]
  },
  {
   "cell_type": "code",
   "execution_count": 5,
   "metadata": {},
   "outputs": [
    {
     "name": "stdout",
     "output_type": "stream",
     "text": [
      "Hello Emad!\n",
      "Hello, Emad!\n",
      "Hello Emad!\n",
      "Hello Emad!\n"
     ]
    }
   ],
   "source": [
    "#variable for the input\n",
    "user = input(\"Enter your name: \")\n",
    "\n",
    "#printing the input in format 1\n",
    "print(\"Hello \" + user + \"!\")\n",
    "\n",
    "#printing the input in format 2\n",
    "print(\"Hello, %s!\" % user)\n",
    "\n",
    "#printing the input in format 3\n",
    "print(\"Hello {}!\".format(user))\n",
    "\n",
    "#printing the input in format 4\n",
    "print(f\"Hello {user}!\")"
   ]
  },
  {
   "cell_type": "markdown",
   "metadata": {},
   "source": [
    "## Data Type Conversion"
   ]
  },
  {
   "cell_type": "markdown",
   "metadata": {},
   "source": [
    "We can easily convert data types of python. To do it, we simply need to add data type in 1st braket like `var2 = data type(var1)`"
   ]
  },
  {
   "cell_type": "code",
   "execution_count": 8,
   "metadata": {},
   "outputs": [
    {
     "name": "stdout",
     "output_type": "stream",
     "text": [
      "I started with $100 and now have $194.87171000000012. Awesome!\n"
     ]
    },
    {
     "data": {
      "text/plain": [
       "3.1415926"
      ]
     },
     "execution_count": 8,
     "metadata": {},
     "output_type": "execute_result"
    }
   ],
   "source": [
    "# Definition of savings and result\n",
    "savings = 100\n",
    "result = 100 * 1.10 ** 7\n",
    "\n",
    "# Fix the printout\n",
    "print(\"I started with $\" + str(savings) + \" and now have $\" + str(result) + \". Awesome!\")\n",
    "\n",
    "# Definition of pi_string\n",
    "pi_string = \"3.1415926\"\n",
    "\n",
    "# Convert pi_string into float: pi_float\n",
    "pi_float = float(pi_string)\n",
    "\n",
    "pi_float"
   ]
  },
  {
   "cell_type": "markdown",
   "metadata": {},
   "source": [
    "## Listing in Python"
   ]
  },
  {
   "cell_type": "code",
   "execution_count": 6,
   "metadata": {},
   "outputs": [
    {
     "name": "stdout",
     "output_type": "stream",
     "text": [
      "['Rice', 'Potato', 'Tomato']\n",
      "['Rice', 'Potato', 'Tomato', 'Water']\n",
      "Second Item is Potato\n"
     ]
    }
   ],
   "source": [
    "#list\n",
    "grocery_list = [\"Rice\", \"Potato\", \"Tomato\"]\n",
    "\n",
    "#adding something to the list\n",
    "print(grocery_list)\n",
    "grocery_list.append(\"Water\")\n",
    "\n",
    "print(grocery_list)\n",
    "\n",
    "#accessing the list\n",
    "second_item = grocery_list[1]\n",
    "print( \"Second Item is\",second_item)\n",
    "\n"
   ]
  },
  {
   "cell_type": "markdown",
   "metadata": {},
   "source": [
    "## Function in Python"
   ]
  },
  {
   "cell_type": "markdown",
   "metadata": {},
   "source": [
    "There are two types of function in python:\n",
    "- Built-in Functions\n",
    "- self-define Functions"
   ]
  },
  {
   "cell_type": "markdown",
   "metadata": {},
   "source": [
    "### Built-in Functions\n",
    "There are a lots of builing functions in python. For example, we can sort a data using `sorted()` functions. "
   ]
  },
  {
   "cell_type": "code",
   "execution_count": 8,
   "metadata": {},
   "outputs": [
    {
     "name": "stdout",
     "output_type": "stream",
     "text": [
      "['Rice', 'Potato', 'Tomato']\n",
      "After sorting: ['Potato', 'Rice', 'Tomato']\n"
     ]
    }
   ],
   "source": [
    "#list\n",
    "grocery_list = [\"Rice\", \"Potato\", \"Tomato\"]\n",
    "print(grocery_list)\n",
    "\n",
    "#sorting the items\n",
    "grocery_list.sort()\n",
    "print(\"After sorting:\",grocery_list)"
   ]
  },
  {
   "cell_type": "markdown",
   "metadata": {},
   "source": [
    "If we want to sort temporary, we can use below code:"
   ]
  },
  {
   "cell_type": "code",
   "execution_count": 9,
   "metadata": {},
   "outputs": [
    {
     "name": "stdout",
     "output_type": "stream",
     "text": [
      "[2, 4, 5, 6, 9, 70]\n",
      "[5, 70, 9, 4, 2, 6]\n",
      "[2, 4, 5, 6, 9, 70]\n"
     ]
    }
   ],
   "source": [
    "numbers = [5, 70, 9, 4, 2, 6]\n",
    "numbers.sort()\n",
    "print(numbers)\n",
    "\n",
    "#not sorting the actual list\n",
    "numbers2 = [5, 70, 9, 4, 2, 6]\n",
    "sorted_list = sorted(numbers2)\n",
    "print(numbers2)\n",
    "print(sorted_list)"
   ]
  },
  {
   "cell_type": "markdown",
   "metadata": {},
   "source": [
    "### Self-Define Functions\n",
    "A self define function is a block of code which only runs when it is called. You can pass data, known as parameters, into a function. A function can return data as a result. And intend(spacing) is very important in function."
   ]
  },
  {
   "cell_type": "code",
   "execution_count": 1,
   "metadata": {},
   "outputs": [
    {
     "name": "stdout",
     "output_type": "stream",
     "text": [
      "10 + 3 = 13\n"
     ]
    }
   ],
   "source": [
    "# self define function\n",
    "def add_two_values(first, second):\n",
    "    return first + second             #intend is very important in function(spacing)\n",
    "\n",
    "\n",
    "number1 = 10\n",
    "number2 = 3\n",
    "\n",
    "#calling the function and adding it to a veriable sum\n",
    "sum = add_two_values(number1, number2)\n",
    "\n",
    "print(f\"{number1} + {number2} = {sum}\")"
   ]
  },
  {
   "cell_type": "markdown",
   "metadata": {},
   "source": [
    "## Conditionals in Python"
   ]
  },
  {
   "cell_type": "code",
   "execution_count": 4,
   "metadata": {},
   "outputs": [
    {
     "name": "stdout",
     "output_type": "stream",
     "text": [
      "You got: A+\n",
      "Finised\n"
     ]
    }
   ],
   "source": [
    "marks = int(input(\"Enter your marks: \"))\n",
    "\n",
    "def _show_grade(grade):\n",
    "    print(f\"You got: {grade}\")\n",
    "\n",
    "if marks >= 80:\n",
    "    _show_grade(\"A+\")\n",
    "elif marks >= 70 and marks < 80:\n",
    "    _show_grade(\"A\")\n",
    "elif marks >= 60 and marks < 70:\n",
    "    _show_grade(\"A-\")\n",
    "elif marks >= 33:\n",
    "    _show_grade(\"Passed\")\n",
    "else:\n",
    "    _show_grade(\"F\")\n",
    "\n",
    "\n",
    "print(\"Finised\")"
   ]
  },
  {
   "cell_type": "code",
   "execution_count": 3,
   "metadata": {},
   "outputs": [
    {
     "name": "stdout",
     "output_type": "stream",
     "text": [
      "You are okay\n",
      "Finised\n"
     ]
    }
   ],
   "source": [
    "# Usage of \"or\" in condition \n",
    "if marks < 10 or marks > 80:\n",
    "    print(\"You are either a good or a bad student\")\n",
    "    # nested conditionals\n",
    "    if marks < 10:\n",
    "        print(\"Bad\")\n",
    "    else:\n",
    "        print(\"Excellent\")\n",
    "else:\n",
    "    print(\"You are okay\")\n",
    "\n",
    "print(\"Finised\")"
   ]
  },
  {
   "cell_type": "markdown",
   "metadata": {},
   "source": [
    "## Looping in Python\n",
    "- While Loop\n",
    "- For Loop"
   ]
  },
  {
   "cell_type": "markdown",
   "metadata": {},
   "source": [
    "### While Loop\n",
    "Odd and Even using while loop"
   ]
  },
  {
   "cell_type": "code",
   "execution_count": 6,
   "metadata": {},
   "outputs": [
    {
     "name": "stdout",
     "output_type": "stream",
     "text": [
      "0 is Even\n",
      "1 is Odd\n",
      "2 is Even\n",
      "3 is Odd\n",
      "4 is Even\n",
      "5 is Odd\n",
      "6 is Even\n",
      "7 is Odd\n",
      "8 is Even\n",
      "9 is Odd\n",
      "10 is Even\n",
      "11 is Odd\n",
      "12 is Even\n",
      "13 is Odd\n",
      "14 is Even\n",
      "15 is Odd\n",
      "16 is Even\n",
      "17 is Odd\n",
      "18 is Even\n",
      "19 is Odd\n",
      "The Even List is: [0, 2, 4, 6, 8, 10, 12, 14, 16, 18]\n"
     ]
    }
   ],
   "source": [
    "#funtion to check whether the number is even or odd\n",
    "def is_even(number):\n",
    "    if(number % 2 == 0):\n",
    "        return True\n",
    "    else:\n",
    "        return False\n",
    "\n",
    "#even list    \n",
    "even_list = []\n",
    "    \n",
    "limit = int(input(\"Enter your limit: \"))\n",
    "starting = 0\n",
    "\n",
    "while starting < limit:\n",
    "    if is_even(starting):\n",
    "        even_list.append(starting)   #adding items to the list\n",
    "        print(f\"{starting} is Even\")\n",
    "    else:\n",
    "        print(f\"{starting} is Odd\")\n",
    "        \n",
    "    starting += 1\n",
    "    \n",
    "print(f\"The Even List is: {even_list}\")"
   ]
  },
  {
   "cell_type": "markdown",
   "metadata": {},
   "source": [
    "### For Loop\n",
    "Grocery_list Printing Using For Loop"
   ]
  },
  {
   "cell_type": "code",
   "execution_count": 7,
   "metadata": {},
   "outputs": [
    {
     "name": "stdout",
     "output_type": "stream",
     "text": [
      "Loop 1:\n",
      "Onion\n",
      "Ginger\n",
      "Water\n",
      "Loop 2:\n",
      "Onion\n",
      "Ginger\n",
      "Tomato\n",
      "Water\n",
      "Loop 3:\n",
      "0\n",
      "2\n",
      "4\n",
      "6\n",
      "8\n"
     ]
    }
   ],
   "source": [
    "grocery_list = [\"Onion\", \"Ginger\", \"Tomato\", \"Water\"]\n",
    "\n",
    "print(\"Loop 1:\")\n",
    "for item in grocery_list:\n",
    "    # print(item)\n",
    "    if item == \"Tomato\":\n",
    "        continue\n",
    "    print(item)\n",
    "\n",
    "print(\"Loop 2:\")\n",
    "for i in range(0, len(grocery_list)):\n",
    "    print(grocery_list[i])\n",
    "\n",
    "print(\"Loop 3:\")\n",
    "for i in range(0, 10, 2):\n",
    "    print(i)"
   ]
  },
  {
   "cell_type": "markdown",
   "metadata": {},
   "source": [
    "## File-Operation in Python"
   ]
  },
  {
   "cell_type": "code",
   "execution_count": 26,
   "metadata": {},
   "outputs": [],
   "source": [
    "word_all = []\n",
    "with open(\"input.txt\", mode=\"r\") as s_file:\n",
    "    for line in s_file.readlines():\n",
    "        # print(line, end=\"\")\n",
    "        # print(line.strip().split(\" \"))\n",
    "        words = line.strip().split(\" \")\n",
    "        # word_all = word_all + words\n",
    "        # word_all. append(words)\n",
    "        word_all.extend(words)\n",
    "    # print(word_all)\n",
    "\n",
    "with open(\"output.txt\", mode=\"w\") as o_file:\n",
    "    for word in word_all:\n",
    "        o_file.write(word + \"\\n\") # printing each word in a new line\n",
    "        \n",
    "\n",
    "        "
   ]
  }
 ],
 "metadata": {
  "interpreter": {
   "hash": "078d4fffb146f8359bad319055d1e46f892b6e7f6d326dc49d7fe5243d27ac74"
  },
  "kernelspec": {
   "display_name": "Python 3.9.7 ('base')",
   "language": "python",
   "name": "python3"
  },
  "language_info": {
   "codemirror_mode": {
    "name": "ipython",
    "version": 3
   },
   "file_extension": ".py",
   "mimetype": "text/x-python",
   "name": "python",
   "nbconvert_exporter": "python",
   "pygments_lexer": "ipython3",
   "version": "3.9.7"
  },
  "orig_nbformat": 4
 },
 "nbformat": 4,
 "nbformat_minor": 2
}
